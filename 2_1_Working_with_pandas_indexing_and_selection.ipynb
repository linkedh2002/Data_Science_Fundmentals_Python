{
  "nbformat": 4,
  "nbformat_minor": 0,
  "metadata": {
    "colab": {
      "name": "2.1 Working with pandas-indexing and selection.ipynb",
      "provenance": [],
      "collapsed_sections": []
    },
    "kernelspec": {
      "name": "python3",
      "display_name": "Python 3"
    },
    "language_info": {
      "name": "python"
    }
  },
  "cells": [
    {
      "cell_type": "markdown",
      "source": [
        "## 2.1 Working with pandas : indexing and selection \n",
        "\n",
        "---\n",
        "\n"
      ],
      "metadata": {
        "id": "aaaAGUt7qxyL"
      }
    },
    {
      "cell_type": "markdown",
      "source": [
        "**data selection in series**\n"
      ],
      "metadata": {
        "id": "ZdpDe5neImo4"
      }
    },
    {
      "cell_type": "code",
      "execution_count": null,
      "metadata": {
        "colab": {
          "base_uri": "https://localhost:8080/"
        },
        "id": "uCZFm-pAIkRM",
        "outputId": "fc517ad8-b39b-4cda-c74e-12b5e3fe9103"
      },
      "outputs": [
        {
          "output_type": "execute_result",
          "data": {
            "text/plain": [
              "a     25\n",
              "b     50\n",
              "c     75\n",
              "d    100\n",
              "dtype: int64"
            ]
          },
          "metadata": {},
          "execution_count": 4
        }
      ],
      "source": [
        "import pandas as pd\n",
        "data = pd.Series([25, 50, 75, 100],\n",
        "                 index=['a', 'b', 'c', 'd'])\n",
        "data"
      ]
    },
    {
      "cell_type": "code",
      "source": [
        "data['b']"
      ],
      "metadata": {
        "colab": {
          "base_uri": "https://localhost:8080/"
        },
        "id": "gyzOGg2vJekZ",
        "outputId": "daa96efb-0e3f-49df-a4ba-60c782d7d251"
      },
      "execution_count": null,
      "outputs": [
        {
          "output_type": "execute_result",
          "data": {
            "text/plain": [
              "50"
            ]
          },
          "metadata": {},
          "execution_count": 5
        }
      ]
    },
    {
      "cell_type": "markdown",
      "source": [
        "We can also use dictionary-like Python expressions and methods to examine the keys/indices and values"
      ],
      "metadata": {
        "id": "AeEILwFjJ4qt"
      }
    },
    {
      "cell_type": "code",
      "source": [
        "print('if a is in series or not:','a' in data)\n",
        "print('the data values in the series:',data.keys())"
      ],
      "metadata": {
        "colab": {
          "base_uri": "https://localhost:8080/"
        },
        "id": "OqG9bFRsJ7KN",
        "outputId": "4e01ea11-2a97-4468-ee88-03bc38112bbf"
      },
      "execution_count": null,
      "outputs": [
        {
          "output_type": "stream",
          "name": "stdout",
          "text": [
            "if a is in series or not: True\n",
            "the data values in the series: Index(['a', 'b', 'c', 'd'], dtype='object')\n"
          ]
        }
      ]
    },
    {
      "cell_type": "markdown",
      "source": [
        "we can also add an element in the series"
      ],
      "metadata": {
        "id": "_nfWlJsJKt_c"
      }
    },
    {
      "cell_type": "code",
      "source": [
        "data['e'] = 125\n",
        "data"
      ],
      "metadata": {
        "colab": {
          "base_uri": "https://localhost:8080/"
        },
        "id": "6zzJFB3aLArW",
        "outputId": "7ed156d4-962f-4ec4-e7b3-8ee7b170bb79"
      },
      "execution_count": null,
      "outputs": [
        {
          "output_type": "execute_result",
          "data": {
            "text/plain": [
              "a     25\n",
              "b     50\n",
              "c     75\n",
              "d    100\n",
              "e    125\n",
              "dtype: int64"
            ]
          },
          "metadata": {},
          "execution_count": 7
        }
      ]
    },
    {
      "cell_type": "markdown",
      "source": [
        "**series as one dimension**\n",
        "\n",
        "*  using slicing property \n",
        "\n"
      ],
      "metadata": {
        "id": "tu6e2ikKLM-P"
      }
    },
    {
      "cell_type": "code",
      "source": [
        "print('the series element by the char index:\\n',data['a':'c'])\n",
        "print('the series first two element: \\n',data[0:2])"
      ],
      "metadata": {
        "id": "4Vdub0YaLYnS",
        "colab": {
          "base_uri": "https://localhost:8080/"
        },
        "outputId": "55fbfd40-ee83-4d3a-a55e-2ebb99f0ab93"
      },
      "execution_count": null,
      "outputs": [
        {
          "output_type": "stream",
          "name": "stdout",
          "text": [
            "the series element by the char index:\n",
            " a    25\n",
            "b    50\n",
            "c    75\n",
            "dtype: int64\n",
            "the series first two element: \n",
            " a    25\n",
            "b    50\n",
            "dtype: int64\n"
          ]
        }
      ]
    },
    {
      "cell_type": "markdown",
      "source": [
        "in the above example we have used the slicing property by the index of char by already assigned"
      ],
      "metadata": {
        "id": "Wbmt2Ajpa-Tv"
      }
    },
    {
      "cell_type": "code",
      "source": [
        "print('the series first two element: \\n',data[0:2])"
      ],
      "metadata": {
        "colab": {
          "base_uri": "https://localhost:8080/"
        },
        "id": "EvtNXOZaaueN",
        "outputId": "c8768a09-101b-493a-d73a-a66ac7d84693"
      },
      "execution_count": null,
      "outputs": [
        {
          "output_type": "stream",
          "name": "stdout",
          "text": [
            "the series first two element: \n",
            " a    25\n",
            "b    50\n",
            "dtype: int64\n"
          ]
        }
      ]
    },
    {
      "cell_type": "markdown",
      "source": [
        "**Indexers: loc, iloc, and ix**\n",
        "\n",
        "*   Dataframe.loc[ ] : This function is used for labels.\n",
        "*   Dataframe.iloc[ ] : This function is used for positions or integer based\n",
        "\n",
        "*   Dataframe.ix[] : This function is used for both label and integer based\n",
        "\n",
        "\n"
      ],
      "metadata": {
        "id": "J-5bAk42cTwR"
      }
    },
    {
      "cell_type": "code",
      "source": [
        "val = pd.Series(['a', 'b', 'c','d','e,'], index=[1, 3, 5,7,9])\n",
        "val"
      ],
      "metadata": {
        "colab": {
          "base_uri": "https://localhost:8080/"
        },
        "id": "EH4WSddTc4bu",
        "outputId": "307d3c58-dbb7-41e2-8723-77cd79f96e5f"
      },
      "execution_count": null,
      "outputs": [
        {
          "output_type": "execute_result",
          "data": {
            "text/plain": [
              "1     a\n",
              "3     b\n",
              "5     c\n",
              "7     d\n",
              "9    e,\n",
              "dtype: object"
            ]
          },
          "metadata": {},
          "execution_count": 10
        }
      ]
    },
    {
      "cell_type": "code",
      "source": [
        "print('the first element of the series:',val.loc[1])\n",
        "print('the first 3 element is :\\n',val.loc[1:5])"
      ],
      "metadata": {
        "colab": {
          "base_uri": "https://localhost:8080/"
        },
        "id": "n76lwZy9fRmw",
        "outputId": "6af3476c-4dc0-4197-d046-fe8f76837b65"
      },
      "execution_count": null,
      "outputs": [
        {
          "output_type": "stream",
          "name": "stdout",
          "text": [
            "the first element of the series: a\n",
            "the first 3 element is :\n",
            " 1    a\n",
            "3    b\n",
            "5    c\n",
            "dtype: object\n"
          ]
        }
      ]
    },
    {
      "cell_type": "code",
      "source": [
        "print('the second element in the series:',val.iloc[1])\n",
        "print('the elements from the second element\\n',val.iloc[1:5])"
      ],
      "metadata": {
        "colab": {
          "base_uri": "https://localhost:8080/"
        },
        "id": "GTyUn7Nvf_hA",
        "outputId": "dcfbc09b-e151-4014-c46d-73a352fee84a"
      },
      "execution_count": null,
      "outputs": [
        {
          "output_type": "stream",
          "name": "stdout",
          "text": [
            "the second element in the series: b\n",
            "the elements from the second element\n",
            " 3     b\n",
            "5     c\n",
            "7     d\n",
            "9    e,\n",
            "dtype: object\n"
          ]
        }
      ]
    },
    {
      "cell_type": "markdown",
      "source": [
        "**Data Selection in DataFrame**"
      ],
      "metadata": {
        "id": "ZUS8fxPjmoiF"
      }
    },
    {
      "cell_type": "code",
      "source": [
        "area = pd.Series({'Tamil Nadu': 423967, 'Kerala': 695662,\n",
        "                  'Maharastra': 141297, 'Odisha': 170312,\n",
        "                  'Delhi': 149995})\n",
        "pop = pd.Series({'Tamil Nadu': 38332521, 'Kerala': 26448193,\n",
        "                 'Maharastra': 19651127, 'Odisha': 19552860,\n",
        "                 'Delhi': 12882135})\n",
        "lis = pd.DataFrame({'area':area, 'pop':pop})\n",
        "lis"
      ],
      "metadata": {
        "colab": {
          "base_uri": "https://localhost:8080/",
          "height": 206
        },
        "id": "zr6gn90km_Ff",
        "outputId": "54477213-c38b-49db-d050-4c0cc4ac1708"
      },
      "execution_count": null,
      "outputs": [
        {
          "output_type": "execute_result",
          "data": {
            "text/html": [
              "<div>\n",
              "<style scoped>\n",
              "    .dataframe tbody tr th:only-of-type {\n",
              "        vertical-align: middle;\n",
              "    }\n",
              "\n",
              "    .dataframe tbody tr th {\n",
              "        vertical-align: top;\n",
              "    }\n",
              "\n",
              "    .dataframe thead th {\n",
              "        text-align: right;\n",
              "    }\n",
              "</style>\n",
              "<table border=\"1\" class=\"dataframe\">\n",
              "  <thead>\n",
              "    <tr style=\"text-align: right;\">\n",
              "      <th></th>\n",
              "      <th>area</th>\n",
              "      <th>pop</th>\n",
              "    </tr>\n",
              "  </thead>\n",
              "  <tbody>\n",
              "    <tr>\n",
              "      <th>Tamil Nadu</th>\n",
              "      <td>423967</td>\n",
              "      <td>38332521</td>\n",
              "    </tr>\n",
              "    <tr>\n",
              "      <th>Kerala</th>\n",
              "      <td>695662</td>\n",
              "      <td>26448193</td>\n",
              "    </tr>\n",
              "    <tr>\n",
              "      <th>Maharastra</th>\n",
              "      <td>141297</td>\n",
              "      <td>19651127</td>\n",
              "    </tr>\n",
              "    <tr>\n",
              "      <th>Odisha</th>\n",
              "      <td>170312</td>\n",
              "      <td>19552860</td>\n",
              "    </tr>\n",
              "    <tr>\n",
              "      <th>Delhi</th>\n",
              "      <td>149995</td>\n",
              "      <td>12882135</td>\n",
              "    </tr>\n",
              "  </tbody>\n",
              "</table>\n",
              "</div>"
            ],
            "text/plain": [
              "              area       pop\n",
              "Tamil Nadu  423967  38332521\n",
              "Kerala      695662  26448193\n",
              "Maharastra  141297  19651127\n",
              "Odisha      170312  19552860\n",
              "Delhi       149995  12882135"
            ]
          },
          "metadata": {},
          "execution_count": 13
        }
      ]
    },
    {
      "cell_type": "code",
      "source": [
        "print('the area of the given states\\n',lis['area'])"
      ],
      "metadata": {
        "colab": {
          "base_uri": "https://localhost:8080/"
        },
        "id": "WvuX1Ck5oJ2a",
        "outputId": "db14ace9-b22c-4ceb-cd22-5425faaddc7b"
      },
      "execution_count": null,
      "outputs": [
        {
          "output_type": "stream",
          "name": "stdout",
          "text": [
            "the area of the given states\n",
            " Tamil Nadu    423967\n",
            "Kerala        695662\n",
            "Maharastra    141297\n",
            "Odisha        170312\n",
            "Delhi         149995\n",
            "Name: area, dtype: int64\n"
          ]
        }
      ]
    },
    {
      "cell_type": "code",
      "source": [
        "lis['density']=lis['pop']/lis['area']\n",
        "lis"
      ],
      "metadata": {
        "id": "UN4iuhEF51wz",
        "colab": {
          "base_uri": "https://localhost:8080/",
          "height": 206
        },
        "outputId": "3812ad93-e8a5-4db8-cd10-96520a9dfbd8"
      },
      "execution_count": null,
      "outputs": [
        {
          "output_type": "execute_result",
          "data": {
            "text/html": [
              "<div>\n",
              "<style scoped>\n",
              "    .dataframe tbody tr th:only-of-type {\n",
              "        vertical-align: middle;\n",
              "    }\n",
              "\n",
              "    .dataframe tbody tr th {\n",
              "        vertical-align: top;\n",
              "    }\n",
              "\n",
              "    .dataframe thead th {\n",
              "        text-align: right;\n",
              "    }\n",
              "</style>\n",
              "<table border=\"1\" class=\"dataframe\">\n",
              "  <thead>\n",
              "    <tr style=\"text-align: right;\">\n",
              "      <th></th>\n",
              "      <th>area</th>\n",
              "      <th>pop</th>\n",
              "      <th>density</th>\n",
              "    </tr>\n",
              "  </thead>\n",
              "  <tbody>\n",
              "    <tr>\n",
              "      <th>Tamil Nadu</th>\n",
              "      <td>423967</td>\n",
              "      <td>38332521</td>\n",
              "      <td>90.413926</td>\n",
              "    </tr>\n",
              "    <tr>\n",
              "      <th>Kerala</th>\n",
              "      <td>695662</td>\n",
              "      <td>26448193</td>\n",
              "      <td>38.018740</td>\n",
              "    </tr>\n",
              "    <tr>\n",
              "      <th>Maharastra</th>\n",
              "      <td>141297</td>\n",
              "      <td>19651127</td>\n",
              "      <td>139.076746</td>\n",
              "    </tr>\n",
              "    <tr>\n",
              "      <th>Odisha</th>\n",
              "      <td>170312</td>\n",
              "      <td>19552860</td>\n",
              "      <td>114.806121</td>\n",
              "    </tr>\n",
              "    <tr>\n",
              "      <th>Delhi</th>\n",
              "      <td>149995</td>\n",
              "      <td>12882135</td>\n",
              "      <td>85.883763</td>\n",
              "    </tr>\n",
              "  </tbody>\n",
              "</table>\n",
              "</div>"
            ],
            "text/plain": [
              "              area       pop     density\n",
              "Tamil Nadu  423967  38332521   90.413926\n",
              "Kerala      695662  26448193   38.018740\n",
              "Maharastra  141297  19651127  139.076746\n",
              "Odisha      170312  19552860  114.806121\n",
              "Delhi       149995  12882135   85.883763"
            ]
          },
          "metadata": {},
          "execution_count": 17
        }
      ]
    },
    {
      "cell_type": "markdown",
      "source": [
        "**dataframe as two dimension**"
      ],
      "metadata": {
        "id": "p23hhJzPIsug"
      }
    },
    {
      "cell_type": "code",
      "source": [
        "lis.values"
      ],
      "metadata": {
        "colab": {
          "base_uri": "https://localhost:8080/"
        },
        "id": "WIr65aqV--M3",
        "outputId": "48cd2ff1-b83d-4d4f-ba50-791868345788"
      },
      "execution_count": null,
      "outputs": [
        {
          "output_type": "execute_result",
          "data": {
            "text/plain": [
              "array([[4.23967000e+05, 3.83325210e+07, 9.04139261e+01],\n",
              "       [6.95662000e+05, 2.64481930e+07, 3.80187404e+01],\n",
              "       [1.41297000e+05, 1.96511270e+07, 1.39076746e+02],\n",
              "       [1.70312000e+05, 1.95528600e+07, 1.14806121e+02],\n",
              "       [1.49995000e+05, 1.28821350e+07, 8.58837628e+01]])"
            ]
          },
          "metadata": {},
          "execution_count": 18
        }
      ]
    },
    {
      "cell_type": "code",
      "source": [
        "lis.T"
      ],
      "metadata": {
        "colab": {
          "base_uri": "https://localhost:8080/",
          "height": 163
        },
        "id": "ezGREOaR_DqI",
        "outputId": "8058ee6f-da69-49e7-cf6f-de0f9ac2906e"
      },
      "execution_count": null,
      "outputs": [
        {
          "output_type": "execute_result",
          "data": {
            "text/html": [
              "<div>\n",
              "<style scoped>\n",
              "    .dataframe tbody tr th:only-of-type {\n",
              "        vertical-align: middle;\n",
              "    }\n",
              "\n",
              "    .dataframe tbody tr th {\n",
              "        vertical-align: top;\n",
              "    }\n",
              "\n",
              "    .dataframe thead th {\n",
              "        text-align: right;\n",
              "    }\n",
              "</style>\n",
              "<table border=\"1\" class=\"dataframe\">\n",
              "  <thead>\n",
              "    <tr style=\"text-align: right;\">\n",
              "      <th></th>\n",
              "      <th>Tamil Nadu</th>\n",
              "      <th>Kerala</th>\n",
              "      <th>Maharastra</th>\n",
              "      <th>Odisha</th>\n",
              "      <th>Delhi</th>\n",
              "    </tr>\n",
              "  </thead>\n",
              "  <tbody>\n",
              "    <tr>\n",
              "      <th>area</th>\n",
              "      <td>4.239670e+05</td>\n",
              "      <td>6.956620e+05</td>\n",
              "      <td>1.412970e+05</td>\n",
              "      <td>1.703120e+05</td>\n",
              "      <td>1.499950e+05</td>\n",
              "    </tr>\n",
              "    <tr>\n",
              "      <th>pop</th>\n",
              "      <td>3.833252e+07</td>\n",
              "      <td>2.644819e+07</td>\n",
              "      <td>1.965113e+07</td>\n",
              "      <td>1.955286e+07</td>\n",
              "      <td>1.288214e+07</td>\n",
              "    </tr>\n",
              "    <tr>\n",
              "      <th>density</th>\n",
              "      <td>9.041393e+01</td>\n",
              "      <td>3.801874e+01</td>\n",
              "      <td>1.390767e+02</td>\n",
              "      <td>1.148061e+02</td>\n",
              "      <td>8.588376e+01</td>\n",
              "    </tr>\n",
              "  </tbody>\n",
              "</table>\n",
              "</div>"
            ],
            "text/plain": [
              "           Tamil Nadu        Kerala    Maharastra        Odisha         Delhi\n",
              "area     4.239670e+05  6.956620e+05  1.412970e+05  1.703120e+05  1.499950e+05\n",
              "pop      3.833252e+07  2.644819e+07  1.965113e+07  1.955286e+07  1.288214e+07\n",
              "density  9.041393e+01  3.801874e+01  1.390767e+02  1.148061e+02  8.588376e+01"
            ]
          },
          "metadata": {},
          "execution_count": 20
        }
      ]
    },
    {
      "cell_type": "code",
      "source": [
        "print('the area of the states',lis.values[0])"
      ],
      "metadata": {
        "colab": {
          "base_uri": "https://localhost:8080/"
        },
        "id": "Gm-Ve4mX_JeF",
        "outputId": "2e62c4e6-4818-4995-9d0b-39539034d1d9"
      },
      "execution_count": null,
      "outputs": [
        {
          "output_type": "stream",
          "name": "stdout",
          "text": [
            "the area of the states [4.23967000e+05 3.83325210e+07 9.04139261e+01]\n"
          ]
        }
      ]
    },
    {
      "cell_type": "markdown",
      "source": [
        "using iloc,loc and ix in two dimension"
      ],
      "metadata": {
        "id": "I7YpCYYJI3du"
      }
    },
    {
      "cell_type": "code",
      "source": [
        "print('the area and population of the states:')\n",
        "lis.iloc[:3, :2]"
      ],
      "metadata": {
        "id": "28WfKdVaFTy1",
        "colab": {
          "base_uri": "https://localhost:8080/",
          "height": 161
        },
        "outputId": "55fed14f-747f-4eef-daf4-5ae3361d2210"
      },
      "execution_count": null,
      "outputs": [
        {
          "output_type": "stream",
          "name": "stdout",
          "text": [
            "the area and population of the states:\n"
          ]
        },
        {
          "output_type": "execute_result",
          "data": {
            "text/html": [
              "<div>\n",
              "<style scoped>\n",
              "    .dataframe tbody tr th:only-of-type {\n",
              "        vertical-align: middle;\n",
              "    }\n",
              "\n",
              "    .dataframe tbody tr th {\n",
              "        vertical-align: top;\n",
              "    }\n",
              "\n",
              "    .dataframe thead th {\n",
              "        text-align: right;\n",
              "    }\n",
              "</style>\n",
              "<table border=\"1\" class=\"dataframe\">\n",
              "  <thead>\n",
              "    <tr style=\"text-align: right;\">\n",
              "      <th></th>\n",
              "      <th>area</th>\n",
              "      <th>pop</th>\n",
              "    </tr>\n",
              "  </thead>\n",
              "  <tbody>\n",
              "    <tr>\n",
              "      <th>Tamil Nadu</th>\n",
              "      <td>423967</td>\n",
              "      <td>38332521</td>\n",
              "    </tr>\n",
              "    <tr>\n",
              "      <th>Kerala</th>\n",
              "      <td>695662</td>\n",
              "      <td>26448193</td>\n",
              "    </tr>\n",
              "    <tr>\n",
              "      <th>Maharastra</th>\n",
              "      <td>141297</td>\n",
              "      <td>19651127</td>\n",
              "    </tr>\n",
              "  </tbody>\n",
              "</table>\n",
              "</div>"
            ],
            "text/plain": [
              "              area       pop\n",
              "Tamil Nadu  423967  38332521\n",
              "Kerala      695662  26448193\n",
              "Maharastra  141297  19651127"
            ]
          },
          "metadata": {},
          "execution_count": 28
        }
      ]
    },
    {
      "cell_type": "code",
      "source": [
        "lis.loc[:'Delhi', :'pop']"
      ],
      "metadata": {
        "colab": {
          "base_uri": "https://localhost:8080/",
          "height": 206
        },
        "id": "oW-IxvKVKHOF",
        "outputId": "8dc582cf-55c5-4be8-eb43-862f7031c57b"
      },
      "execution_count": null,
      "outputs": [
        {
          "output_type": "execute_result",
          "data": {
            "text/html": [
              "<div>\n",
              "<style scoped>\n",
              "    .dataframe tbody tr th:only-of-type {\n",
              "        vertical-align: middle;\n",
              "    }\n",
              "\n",
              "    .dataframe tbody tr th {\n",
              "        vertical-align: top;\n",
              "    }\n",
              "\n",
              "    .dataframe thead th {\n",
              "        text-align: right;\n",
              "    }\n",
              "</style>\n",
              "<table border=\"1\" class=\"dataframe\">\n",
              "  <thead>\n",
              "    <tr style=\"text-align: right;\">\n",
              "      <th></th>\n",
              "      <th>area</th>\n",
              "      <th>pop</th>\n",
              "    </tr>\n",
              "  </thead>\n",
              "  <tbody>\n",
              "    <tr>\n",
              "      <th>Tamil Nadu</th>\n",
              "      <td>423967</td>\n",
              "      <td>38332521</td>\n",
              "    </tr>\n",
              "    <tr>\n",
              "      <th>Kerala</th>\n",
              "      <td>695662</td>\n",
              "      <td>26448193</td>\n",
              "    </tr>\n",
              "    <tr>\n",
              "      <th>Maharastra</th>\n",
              "      <td>141297</td>\n",
              "      <td>19651127</td>\n",
              "    </tr>\n",
              "    <tr>\n",
              "      <th>Odisha</th>\n",
              "      <td>170312</td>\n",
              "      <td>19552860</td>\n",
              "    </tr>\n",
              "    <tr>\n",
              "      <th>Delhi</th>\n",
              "      <td>149995</td>\n",
              "      <td>12882135</td>\n",
              "    </tr>\n",
              "  </tbody>\n",
              "</table>\n",
              "</div>"
            ],
            "text/plain": [
              "              area       pop\n",
              "Tamil Nadu  423967  38332521\n",
              "Kerala      695662  26448193\n",
              "Maharastra  141297  19651127\n",
              "Odisha      170312  19552860\n",
              "Delhi       149995  12882135"
            ]
          },
          "metadata": {},
          "execution_count": 31
        }
      ]
    }
  ]
}