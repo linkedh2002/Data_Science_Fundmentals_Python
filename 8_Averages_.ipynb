{
  "nbformat": 4,
  "nbformat_minor": 0,
  "metadata": {
    "colab": {
      "name": "8 Averages .ipynb",
      "provenance": [],
      "collapsed_sections": []
    },
    "kernelspec": {
      "name": "python3",
      "display_name": "Python 3"
    },
    "language_info": {
      "name": "python"
    }
  },
  "cells": [
    {
      "cell_type": "markdown",
      "source": [
        "***8. Averages***"
      ],
      "metadata": {
        "id": "Ppin9QpraGIM"
      }
    },
    {
      "cell_type": "markdown",
      "source": [
        "1. *Import pandas module*\n",
        "2. *Import Numpy module*"
      ],
      "metadata": {
        "id": "dx_gOdu_aRpE"
      }
    },
    {
      "cell_type": "code",
      "execution_count": null,
      "metadata": {
        "id": "_lNF9iZ5G_ZQ"
      },
      "outputs": [],
      "source": [
        "import numpy as np\n",
        "import pandas as pd"
      ]
    },
    {
      "cell_type": "markdown",
      "source": [
        "***Construct a data table using DataFrame***"
      ],
      "metadata": {
        "id": "Fgy2d2eaf9bm"
      }
    },
    {
      "cell_type": "code",
      "source": [
        "data = {'Student' : ['A','B','C','D','E'],'Mark':[29,26,28,30,30], 'Subject':['Maths','Maths','Maths','Maths','Maths']}\n",
        "x = pd.DataFrame(data)\n",
        "print(x)"
      ],
      "metadata": {
        "colab": {
          "base_uri": "https://localhost:8080/"
        },
        "id": "F3VKwgGgIGiQ",
        "outputId": "5da76ae5-0c8d-4f3e-9e89-4407f2c88023"
      },
      "execution_count": null,
      "outputs": [
        {
          "output_type": "stream",
          "name": "stdout",
          "text": [
            "  Student  Mark Subject\n",
            "0       A    29   Maths\n",
            "1       B    26   Maths\n",
            "2       C    28   Maths\n",
            "3       D    30   Maths\n",
            "4       E    30   Maths\n"
          ]
        }
      ]
    },
    {
      "cell_type": "markdown",
      "source": [
        "***Using Mean Method to find Averages:***"
      ],
      "metadata": {
        "id": "X1cSh-oWbN1e"
      }
    },
    {
      "cell_type": "code",
      "source": [
        "print(\"Average\",(x.mean()))"
      ],
      "metadata": {
        "colab": {
          "base_uri": "https://localhost:8080/"
        },
        "id": "yEw4qlaoJdfI",
        "outputId": "33bca046-be97-49f9-ba12-59fb01ca8ac8"
      },
      "execution_count": null,
      "outputs": [
        {
          "output_type": "stream",
          "name": "stdout",
          "text": [
            "Average Mark    28.6\n",
            "dtype: float64\n"
          ]
        }
      ]
    },
    {
      "cell_type": "code",
      "source": [
        "print(x.mean(axis = 1),'\\n') #Averages in a column\n",
        "print(x.mean(axis = 0))      #Averages (Total / no. of objects)"
      ],
      "metadata": {
        "colab": {
          "base_uri": "https://localhost:8080/"
        },
        "id": "_QXhawNOXMxN",
        "outputId": "dc7a4c1e-fc11-4280-f9b8-9b9a2c14f7eb"
      },
      "execution_count": null,
      "outputs": [
        {
          "output_type": "stream",
          "name": "stdout",
          "text": [
            "0    29.0\n",
            "1    26.0\n",
            "2    28.0\n",
            "3    30.0\n",
            "4    30.0\n",
            "dtype: float64 \n",
            "\n",
            "Mark    28.6\n",
            "dtype: float64\n"
          ]
        }
      ]
    },
    {
      "cell_type": "markdown",
      "source": [
        "***`Using Larger Sets to calculate Mean:`***"
      ],
      "metadata": {
        "id": "Kn9f_zRJb4sa"
      }
    },
    {
      "cell_type": "code",
      "source": [
        "print('                CIA-1\\n')\n",
        "data = {'Student' : ['Annish','Bishma','Carter','Disha','Enophy'],\n",
        "        'OOPS': [70,59,69,67,78],\n",
        "        'DAA': [80,81,79,67,70],\n",
        "        'FDS': [59,89,70,89,60],\n",
        "        'DM': [90,70,60,19,60],\n",
        "        'OS': [70,75,80,45,67]}\n",
        "data['Total'] = x.sum(axis=1)\n",
        "x = pd.DataFrame(data, index = ['1','2','3','4','5'])\n",
        "print(x,'\\n','\\nAverages:','\\n')\n",
        "print((x.mean()))"
      ],
      "metadata": {
        "colab": {
          "base_uri": "https://localhost:8080/"
        },
        "id": "zaPXOjBFaCtY",
        "outputId": "6ea4488e-4541-45eb-9d43-451facf2c7aa"
      },
      "execution_count": null,
      "outputs": [
        {
          "output_type": "stream",
          "name": "stdout",
          "text": [
            "                CIA-1\n",
            "\n",
            "  Student  OOPS  DAA  FDS  DM  OS  Total\n",
            "1  Annish    70   80   59  90  70    369\n",
            "2  Bishma    59   81   89  70  75    374\n",
            "3  Carter    69   79   70  60  80    358\n",
            "4   Disha    67   67   89  19  45    287\n",
            "5  Enophy    78   70   60  60  67    335 \n",
            " \n",
            "Averages: \n",
            "\n",
            "OOPS      68.6\n",
            "DAA       75.4\n",
            "FDS       73.4\n",
            "DM        59.8\n",
            "OS        67.4\n",
            "Total    344.6\n",
            "dtype: float64\n"
          ]
        }
      ]
    }
  ]
}