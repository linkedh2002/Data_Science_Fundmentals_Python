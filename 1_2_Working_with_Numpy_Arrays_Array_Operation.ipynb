{
  "nbformat": 4,
  "nbformat_minor": 0,
  "metadata": {
    "colab": {
      "name": "1.2 Working with Numpy Arrays - Array Operation.ipynb",
      "provenance": [],
      "collapsed_sections": []
    },
    "kernelspec": {
      "name": "python3",
      "display_name": "Python 3"
    },
    "language_info": {
      "name": "python"
    }
  },
  "cells": [
    {
      "cell_type": "markdown",
      "source": [
        "## 1.2 Working with Numpy Arrays - Array Operation\n",
        "\n",
        "---\n",
        "\n"
      ],
      "metadata": {
        "id": "pZiEtQW9P4Lg"
      }
    },
    {
      "cell_type": "markdown",
      "source": [
        "***Single Dimensional array:***"
      ],
      "metadata": {
        "id": "2Rq4nIweBdCp"
      }
    },
    {
      "cell_type": "markdown",
      "source": [
        "***Import the Numpy module***"
      ],
      "metadata": {
        "id": "qTMIZrh253nf"
      }
    },
    {
      "cell_type": "code",
      "source": [
        "import numpy as np"
      ],
      "metadata": {
        "id": "yZFOG5By6EO9"
      },
      "execution_count": null,
      "outputs": []
    },
    {
      "cell_type": "markdown",
      "source": [
        "***Array Creation:***\n",
        "*Single Dimensional Array:*"
      ],
      "metadata": {
        "id": "5xZDPUM_6J15"
      }
    },
    {
      "cell_type": "code",
      "source": [
        "x = np.array([1,2,3,4,5])\n",
        "print('Array Elements are:',x)"
      ],
      "metadata": {
        "colab": {
          "base_uri": "https://localhost:8080/"
        },
        "id": "ZtyNv30WBdpV",
        "outputId": "0f14a670-0297-429c-9956-dbd68a06a99d"
      },
      "execution_count": null,
      "outputs": [
        {
          "output_type": "stream",
          "name": "stdout",
          "text": [
            "Array Elements are: [1 2 3 4 5]\n"
          ]
        }
      ]
    },
    {
      "cell_type": "markdown",
      "source": [
        "***Array Creation:*** *Two Dimensional Array:*"
      ],
      "metadata": {
        "id": "CYtCLws2BlKI"
      }
    },
    {
      "cell_type": "code",
      "source": [
        "A = ([[1,2,3,4],[5,6,7,8]])\n",
        "print(\"Two Dimensional Array is:\")\n",
        "print(A)"
      ],
      "metadata": {
        "colab": {
          "base_uri": "https://localhost:8080/"
        },
        "id": "Es94Kn21BmBo",
        "outputId": "b13b92a3-bf1a-43b2-8927-dd1520bdd28a"
      },
      "execution_count": null,
      "outputs": [
        {
          "output_type": "stream",
          "name": "stdout",
          "text": [
            "Two Dimensional Array is:\n",
            "[[1, 2, 3, 4], [5, 6, 7, 8]]\n"
          ]
        }
      ]
    },
    {
      "cell_type": "markdown",
      "source": [
        "***Array Operations:*** *Arithmetic Operations (Addition, Subraction, Dot, Multiplication)*"
      ],
      "metadata": {
        "id": "VYScKmBw_Ysi"
      }
    },
    {
      "cell_type": "code",
      "source": [
        "c = ([5,6,7,8])\n",
        "d = ([0,2,5,8])\n",
        "print('Addition:',np.add(c,d))\n",
        "print('Subtract:',np.subtract(c,d))\n",
        "print('\\nDot Operator multiplies 1st element from 1 array to the 1st element in 2nd array and vice versa\\n',np.dot(c,d))\n",
        "\n",
        "print('Multiplication:',np.multiply(c,d))"
      ],
      "metadata": {
        "colab": {
          "base_uri": "https://localhost:8080/"
        },
        "id": "awnD3bhpFX6z",
        "outputId": "c8912941-b397-4c93-ab2f-f99f3a35fc11"
      },
      "execution_count": null,
      "outputs": [
        {
          "output_type": "stream",
          "name": "stdout",
          "text": [
            "Addition: [ 5  8 12 16]\n",
            "Subtract: [5 4 2 0]\n",
            "\n",
            "Dot Operator multiplies 1st element from 1 array to the 1st element in 2nd array and vice versa\n",
            " 111\n",
            "Multiplication: [ 0 12 35 64]\n"
          ]
        }
      ]
    },
    {
      "cell_type": "markdown",
      "source": [
        "***Aggregate Functions:*** *Sum, Average, Product, Transpose, Min and Max*"
      ],
      "metadata": {
        "id": "T1KH5KY8BgKk"
      }
    },
    {
      "cell_type": "code",
      "source": [
        "x = np.array([1,2,3,4,5,6])\n",
        "print('Sum:',np.sum(x))\n",
        "print('Minimum:',np.min(x))\n",
        "print('Maximum:',np.max(x))\n",
        "print('Product:',np.prod(x))\n",
        "print('Sorted:',np.sort(x))\n",
        "print('Transpose:',x.T)"
      ],
      "metadata": {
        "id": "65Awj9OjBklr",
        "colab": {
          "base_uri": "https://localhost:8080/"
        },
        "outputId": "6beec363-160d-44ff-a82b-60ff58c1c862"
      },
      "execution_count": null,
      "outputs": [
        {
          "output_type": "stream",
          "name": "stdout",
          "text": [
            "Sum: 21\n",
            "Minimum: 1\n",
            "Maximum: 6\n",
            "Product: 720\n",
            "Sorted: [1 2 3 4 5 6]\n",
            "Transpose: [1 2 3 4 5 6]\n"
          ]
        }
      ]
    },
    {
      "cell_type": "markdown",
      "source": [
        "***Sorting Array:*** *Sorting means putting elements in an ordered sequence*"
      ],
      "metadata": {
        "id": "v2m9t1HwOIbA"
      }
    },
    {
      "cell_type": "code",
      "source": [
        "arr = np.array([3, 2, 0, 1])\n",
        "arr1 = np.array(['z', 'h', 'a'])\n",
        "print(np.sort(arr))\n",
        "print(np.sort(arr1))"
      ],
      "metadata": {
        "id": "9xn6bYMAOLjm",
        "colab": {
          "base_uri": "https://localhost:8080/"
        },
        "outputId": "29c587fa-258e-45be-a62e-b18ebc42b1da"
      },
      "execution_count": null,
      "outputs": [
        {
          "output_type": "stream",
          "name": "stdout",
          "text": [
            "[0 1 2 3]\n",
            "['a' 'h' 'z']\n"
          ]
        }
      ]
    },
    {
      "cell_type": "code",
      "source": [
        "arr = np.array([[3, 2, 4], [5, 0, 1]])\n",
        "print(np.sort(arr))"
      ],
      "metadata": {
        "id": "-MNgh7tjOTWW",
        "colab": {
          "base_uri": "https://localhost:8080/"
        },
        "outputId": "cf76317b-7252-4309-d2a1-48a514fd1a33"
      },
      "execution_count": null,
      "outputs": [
        {
          "output_type": "stream",
          "name": "stdout",
          "text": [
            "[[2 3 4]\n",
            " [0 1 5]]\n"
          ]
        }
      ]
    },
    {
      "cell_type": "markdown",
      "source": [
        "***Searching Arrays:*** *You can search an array for a certain value, and return the indexes that get a match.*"
      ],
      "metadata": {
        "id": "aUBlHaevQBWr"
      }
    },
    {
      "cell_type": "code",
      "source": [
        "arr = np.array([1, 2, 3, 4, 5, 4, 4])\n",
        "x = np.where(arr == 4)\n",
        "print(x)"
      ],
      "metadata": {
        "id": "2LNIK6FbP-Vl",
        "colab": {
          "base_uri": "https://localhost:8080/"
        },
        "outputId": "72238de3-3ad0-4e06-a3bf-5973d9450503"
      },
      "execution_count": null,
      "outputs": [
        {
          "output_type": "stream",
          "name": "stdout",
          "text": [
            "(array([3, 5, 6]),)\n"
          ]
        }
      ]
    },
    {
      "cell_type": "markdown",
      "source": [
        "***Array Joining***: *Joining two arrays in a single array*"
      ],
      "metadata": {
        "id": "2Fq_HhhpE4jq"
      }
    },
    {
      "cell_type": "markdown",
      "source": [
        "***We use concatenate for Joining the arrays***"
      ],
      "metadata": {
        "id": "wPixVjSQE5ad"
      }
    },
    {
      "cell_type": "code",
      "source": [
        "x=np.array([1,2,3,4])\n",
        "y=np.array([5,6,7,8])\n",
        "z=np.concatenate((x,y))\n",
        "z"
      ],
      "metadata": {
        "id": "dARXESLGE_TK",
        "colab": {
          "base_uri": "https://localhost:8080/"
        },
        "outputId": "b53b9c45-5308-4409-a641-4028c33950a4"
      },
      "execution_count": null,
      "outputs": [
        {
          "output_type": "execute_result",
          "data": {
            "text/plain": [
              "array([1, 2, 3, 4, 5, 6, 7, 8])"
            ]
          },
          "metadata": {},
          "execution_count": 27
        }
      ]
    },
    {
      "cell_type": "code",
      "source": [
        "x=np.array([[1,2],[3,4]])  \n",
        "y=np.array([[12,20]])  \n",
        "z=np.concatenate((x,y))  \n",
        "z"
      ],
      "metadata": {
        "id": "K77q0ZYLGi9H",
        "colab": {
          "base_uri": "https://localhost:8080/"
        },
        "outputId": "41cbeda3-59a3-4a67-d034-32436545805e"
      },
      "execution_count": null,
      "outputs": [
        {
          "output_type": "execute_result",
          "data": {
            "text/plain": [
              "array([[ 1,  2],\n",
              "       [ 3,  4],\n",
              "       [12, 20]])"
            ]
          },
          "metadata": {},
          "execution_count": 28
        }
      ]
    },
    {
      "cell_type": "code",
      "source": [
        "print('With Axis 0')\n",
        "x = np.array([[1, 2], [3, 4]])\n",
        "y = np.array([[5, 6], [7, 8]])\n",
        "z = np.concatenate((x, y), axis=0)\n",
        "z"
      ],
      "metadata": {
        "id": "gA1dHzrQ2cvm",
        "colab": {
          "base_uri": "https://localhost:8080/"
        },
        "outputId": "cb13225b-6cc4-4b63-d221-e30a1123a783"
      },
      "execution_count": null,
      "outputs": [
        {
          "output_type": "stream",
          "name": "stdout",
          "text": [
            "With Axis 0\n"
          ]
        },
        {
          "output_type": "execute_result",
          "data": {
            "text/plain": [
              "array([[1, 2],\n",
              "       [3, 4],\n",
              "       [5, 6],\n",
              "       [7, 8]])"
            ]
          },
          "metadata": {},
          "execution_count": 29
        }
      ]
    },
    {
      "cell_type": "code",
      "source": [
        "print('With Axis 1')\n",
        "x = np.array([[1, 2], [3, 4]])\n",
        "y = np.array([[5, 6], [7, 8]])\n",
        "z = np.concatenate((x, y), axis=1)\n",
        "z"
      ],
      "metadata": {
        "id": "e4PLMKq4_lLJ",
        "colab": {
          "base_uri": "https://localhost:8080/"
        },
        "outputId": "f4617d62-2109-4180-ec35-8c28376af519"
      },
      "execution_count": null,
      "outputs": [
        {
          "output_type": "stream",
          "name": "stdout",
          "text": [
            "With Axis 1\n"
          ]
        },
        {
          "output_type": "execute_result",
          "data": {
            "text/plain": [
              "array([[1, 2, 5, 6],\n",
              "       [3, 4, 7, 8]])"
            ]
          },
          "metadata": {},
          "execution_count": 30
        }
      ]
    },
    {
      "cell_type": "markdown",
      "source": [
        "***Other Array Operations:***"
      ],
      "metadata": {
        "id": "YPRvI5D1ELgh"
      }
    },
    {
      "cell_type": "markdown",
      "source": [
        "***Joining Arrays Using Stack Functions*** ***:*** *Stacking is same as concatenation, the only difference is that stacking is done along a new axis.*"
      ],
      "metadata": {
        "id": "5Qyc_z2VCLgT"
      }
    },
    {
      "cell_type": "code",
      "source": [
        "x= np.array([[1, 2], [3, 4]])\n",
        "y = np.array([[5, 6], [7, 8]])\n",
        "z = np.stack((x, y), axis=0)\n",
        "print(z)"
      ],
      "metadata": {
        "id": "WH7ORGL6CSG0",
        "colab": {
          "base_uri": "https://localhost:8080/"
        },
        "outputId": "8caeb3a1-18a7-43a5-8827-d3be5218b18f"
      },
      "execution_count": null,
      "outputs": [
        {
          "output_type": "stream",
          "name": "stdout",
          "text": [
            "[[[1 2]\n",
            "  [3 4]]\n",
            "\n",
            " [[5 6]\n",
            "  [7 8]]]\n"
          ]
        }
      ]
    },
    {
      "cell_type": "code",
      "source": [
        "x= np.array([[1, 2], [3, 4]])\n",
        "y = np.array([[5, 6], [7, 8]])\n",
        "z = np.stack((x, y), axis=1)\n",
        "print(z)"
      ],
      "metadata": {
        "id": "8-ABS2v6CgYQ",
        "colab": {
          "base_uri": "https://localhost:8080/"
        },
        "outputId": "fcb7be0e-b704-4364-aaf7-8031dd024408"
      },
      "execution_count": null,
      "outputs": [
        {
          "output_type": "stream",
          "name": "stdout",
          "text": [
            "[[[1 2]\n",
            "  [5 6]]\n",
            "\n",
            " [[3 4]\n",
            "  [7 8]]]\n"
          ]
        }
      ]
    },
    {
      "cell_type": "code",
      "source": [
        "x= np.array([[1, 2], [3, 4]])\n",
        "y = np.array([[5, 6], [7, 8]])\n",
        "print(\"Using 'hstack'\")\n",
        "z = np.hstack((x, y))\n",
        "print(z)"
      ],
      "metadata": {
        "id": "T7wIUwTMDlS2",
        "colab": {
          "base_uri": "https://localhost:8080/"
        },
        "outputId": "0f5da4c6-b475-4b58-8b6b-f9706eedddf1"
      },
      "execution_count": null,
      "outputs": [
        {
          "output_type": "stream",
          "name": "stdout",
          "text": [
            "Using 'hstack'\n",
            "[[1 2 5 6]\n",
            " [3 4 7 8]]\n"
          ]
        }
      ]
    },
    {
      "cell_type": "code",
      "source": [
        "x= np.array([[1, 2], [3, 4]])\n",
        "y = np.array([[5, 6], [7, 8]])\n",
        "print(\"Using 'vstack'\")\n",
        "z = np.vstack((x, y))\n",
        "print(z)"
      ],
      "metadata": {
        "id": "4A0xaburEIKt",
        "colab": {
          "base_uri": "https://localhost:8080/"
        },
        "outputId": "3564282e-f574-4056-d35a-999cb0525211"
      },
      "execution_count": null,
      "outputs": [
        {
          "output_type": "stream",
          "name": "stdout",
          "text": [
            "Using 'vstack'\n",
            "[[1 2]\n",
            " [3 4]\n",
            " [5 6]\n",
            " [7 8]]\n"
          ]
        }
      ]
    },
    {
      "cell_type": "markdown",
      "source": [
        "***Using \"dstack\"***"
      ],
      "metadata": {
        "id": "JHqH4Q1lIOIA"
      }
    },
    {
      "cell_type": "code",
      "source": [
        "x= np.array([[1, 2], [3, 4]])\n",
        "y = np.array([[5, 6], [7, 8]])\n",
        "print(\"Using 'dstack'\")\n",
        "z = np.dstack((x, y))\n",
        "print(z)"
      ],
      "metadata": {
        "id": "B2sXQmK0FVN6",
        "colab": {
          "base_uri": "https://localhost:8080/"
        },
        "outputId": "7510488a-88e5-41f7-8553-86ecce2aa332"
      },
      "execution_count": null,
      "outputs": [
        {
          "output_type": "stream",
          "name": "stdout",
          "text": [
            "Using 'dstack'\n",
            "[[[1 5]\n",
            "  [2 6]]\n",
            "\n",
            " [[3 7]\n",
            "  [4 8]]]\n"
          ]
        }
      ]
    },
    {
      "cell_type": "markdown",
      "source": [
        "***Array Split:*** *Splitting is reverse operation of Joining.*"
      ],
      "metadata": {
        "id": "pyCcYAPqI7bn"
      }
    },
    {
      "cell_type": "code",
      "source": [
        "a = np.array([1, 2, 3, 4, 5, 6])\n",
        "n = np.array_split(arr, 6) #split into 6 arrays\n",
        "n"
      ],
      "metadata": {
        "id": "jRlsgBNxJDcS",
        "colab": {
          "base_uri": "https://localhost:8080/"
        },
        "outputId": "674983e7-12fd-400e-957a-3b6456d04492"
      },
      "execution_count": null,
      "outputs": [
        {
          "output_type": "execute_result",
          "data": {
            "text/plain": [
              "[array([[1, 2, 3]]),\n",
              " array([[4, 5, 6]]),\n",
              " array([[7, 8, 9]]),\n",
              " array([[10, 11, 12]]),\n",
              " array([[13, 14, 15]]),\n",
              " array([[16, 17, 18]])]"
            ]
          },
          "metadata": {},
          "execution_count": 42
        }
      ]
    },
    {
      "cell_type": "code",
      "source": [
        "print(\"If the array has less elements than required, it will adjust from the end accordingly\\n\")\n",
        "a = np.array([1, 2, 3, 4, 5, 6])\n",
        "n = np.array_split(arr, 5) #split into 6 arrays\n",
        "n"
      ],
      "metadata": {
        "id": "Z76eRk0KKACw",
        "colab": {
          "base_uri": "https://localhost:8080/"
        },
        "outputId": "d23a3d1c-6198-40db-a5e8-235c39f16be1"
      },
      "execution_count": null,
      "outputs": [
        {
          "output_type": "stream",
          "name": "stdout",
          "text": [
            "If the array has less elements than required, it will adjust from the end accordingly\n",
            "\n"
          ]
        },
        {
          "output_type": "execute_result",
          "data": {
            "text/plain": [
              "[array([[1, 2, 3],\n",
              "        [4, 5, 6]]),\n",
              " array([[7, 8, 9]]),\n",
              " array([[10, 11, 12]]),\n",
              " array([[13, 14, 15]]),\n",
              " array([[16, 17, 18]])]"
            ]
          },
          "metadata": {},
          "execution_count": 41
        }
      ]
    },
    {
      "cell_type": "code",
      "source": [
        "arr = np.array([[1, 2, 3], [4, 5, 6], [7, 8, 9], [10, 11, 12], [13, 14, 15], [16, 17, 18]])\n",
        "newarr = np.hsplit(arr, 3)\n",
        "print(newarr)"
      ],
      "metadata": {
        "id": "Gow_LeaZLM-l",
        "colab": {
          "base_uri": "https://localhost:8080/"
        },
        "outputId": "b64558a4-1126-4541-853a-b02338009ad2"
      },
      "execution_count": null,
      "outputs": [
        {
          "output_type": "stream",
          "name": "stdout",
          "text": [
            "[array([[ 1],\n",
            "       [ 4],\n",
            "       [ 7],\n",
            "       [10],\n",
            "       [13],\n",
            "       [16]]), array([[ 2],\n",
            "       [ 5],\n",
            "       [ 8],\n",
            "       [11],\n",
            "       [14],\n",
            "       [17]]), array([[ 3],\n",
            "       [ 6],\n",
            "       [ 9],\n",
            "       [12],\n",
            "       [15],\n",
            "       [18]])]\n"
          ]
        }
      ]
    },
    {
      "cell_type": "code",
      "source": [
        "arr = np.array([[1, 2, 3], [4, 5, 6], [7, 8, 9], [10, 11, 12], [13, 14, 15], [16, 17, 18]])\n",
        "newarr = np.vsplit(arr, 3)\n",
        "print(newarr)"
      ],
      "metadata": {
        "id": "vF7YidyGl8j4",
        "colab": {
          "base_uri": "https://localhost:8080/"
        },
        "outputId": "4efff8f1-9ac6-4aea-fd88-c3d72914d389"
      },
      "execution_count": null,
      "outputs": [
        {
          "output_type": "stream",
          "name": "stdout",
          "text": [
            "[array([[1, 2, 3],\n",
            "       [4, 5, 6]]), array([[ 7,  8,  9],\n",
            "       [10, 11, 12]]), array([[13, 14, 15],\n",
            "       [16, 17, 18]])]\n"
          ]
        }
      ]
    },
    {
      "cell_type": "code",
      "source": [
        "a = np.arange(12.0).reshape (2,2,3)\n",
        "print(a,'\\n')\n",
        "newarr = np.dsplit(a, 3)\n",
        "print(newarr)"
      ],
      "metadata": {
        "id": "Wc4iAsEio0r1",
        "colab": {
          "base_uri": "https://localhost:8080/"
        },
        "outputId": "87a18dba-59de-4d71-81d1-739764a89caf"
      },
      "execution_count": null,
      "outputs": [
        {
          "output_type": "stream",
          "name": "stdout",
          "text": [
            "[[[ 0.  1.  2.]\n",
            "  [ 3.  4.  5.]]\n",
            "\n",
            " [[ 6.  7.  8.]\n",
            "  [ 9. 10. 11.]]] \n",
            "\n",
            "[array([[[0.],\n",
            "        [3.]],\n",
            "\n",
            "       [[6.],\n",
            "        [9.]]]), array([[[ 1.],\n",
            "        [ 4.]],\n",
            "\n",
            "       [[ 7.],\n",
            "        [10.]]]), array([[[ 2.],\n",
            "        [ 5.]],\n",
            "\n",
            "       [[ 8.],\n",
            "        [11.]]])]\n"
          ]
        }
      ]
    }
  ]
}