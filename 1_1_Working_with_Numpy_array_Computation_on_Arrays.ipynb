{
  "nbformat": 4,
  "nbformat_minor": 0,
  "metadata": {
    "colab": {
      "name": "1.1  Working with Numpy array : Computation on Arrays.ipynb",
      "provenance": [],
      "collapsed_sections": []
    },
    "kernelspec": {
      "name": "python3",
      "display_name": "Python 3"
    },
    "language_info": {
      "name": "python"
    }
  },
  "cells": [
    {
      "cell_type": "markdown",
      "source": [
        "Import numpy with any convenient name,\n",
        "for Example Import numpy as np"
      ],
      "metadata": {
        "id": "dg16MPguz4ei"
      }
    },
    {
      "cell_type": "markdown",
      "source": [
        "Single Dimensional array:"
      ],
      "metadata": {
        "id": "8UmAjVPi0mLJ"
      }
    },
    {
      "cell_type": "code",
      "source": [
        "import numpy as np\n",
        "print('Single Dimensional Array:')\n",
        "x = np.array([1,2,3,4,5])\n",
        "print(x)"
      ],
      "metadata": {
        "colab": {
          "base_uri": "https://localhost:8080/"
        },
        "id": "1W_NZHyN0pAI",
        "outputId": "f23c8799-608b-4c22-af93-363960d8f864"
      },
      "execution_count": null,
      "outputs": [
        {
          "output_type": "stream",
          "name": "stdout",
          "text": [
            "Single Dimensional Array:\n",
            "[1 2 3 4 5]\n"
          ]
        }
      ]
    },
    {
      "cell_type": "markdown",
      "source": [
        "Another Example,"
      ],
      "metadata": {
        "id": "-HmQR1JY1oPI"
      }
    },
    {
      "cell_type": "code",
      "source": [
        "print('Another Example of Single Dimensional Array:')\n",
        "y = np.array([0,2,4,6,16,32,64])\n",
        "print(y)"
      ],
      "metadata": {
        "colab": {
          "base_uri": "https://localhost:8080/"
        },
        "id": "trUEc5Ct1qj5",
        "outputId": "863abddc-2444-4da5-b898-16e070457b0c"
      },
      "execution_count": null,
      "outputs": [
        {
          "output_type": "stream",
          "name": "stdout",
          "text": [
            "Another Example of Single Dimensional Array:\n",
            "[ 0  2  4  6 16 32 64]\n"
          ]
        }
      ]
    },
    {
      "cell_type": "markdown",
      "source": [
        "Two Dimensional Array:"
      ],
      "metadata": {
        "id": "mBKZy2Lw3YXD"
      }
    },
    {
      "cell_type": "code",
      "source": [
        "print('Two Dimensional Array:')\n",
        "A = ([[1,2,3,4],[5,6,7,8]])\n",
        "print(\"This is a Two Dimensional Array\")\n",
        "print(A)"
      ],
      "metadata": {
        "colab": {
          "base_uri": "https://localhost:8080/"
        },
        "id": "-sdnXWw218ue",
        "outputId": "b0b227cc-05f0-473a-c489-e197ac4dc507"
      },
      "execution_count": null,
      "outputs": [
        {
          "output_type": "stream",
          "name": "stdout",
          "text": [
            "Two Dimensional Array:\n",
            "This is a Two Dimensional Array\n",
            "[[1, 2, 3, 4], [5, 6, 7, 8]]\n"
          ]
        }
      ]
    },
    {
      "cell_type": "markdown",
      "source": [
        "Another Example,"
      ],
      "metadata": {
        "id": "4EGPJiWd2VQV"
      }
    },
    {
      "cell_type": "code",
      "source": [
        "print('Another Example of Two Dimensional Array:')\n",
        "A = ([[10,20,30,40],[50,60,70,80]])\n",
        "print(A)"
      ],
      "metadata": {
        "colab": {
          "base_uri": "https://localhost:8080/"
        },
        "id": "KaxLiKDD2X__",
        "outputId": "5859004f-c77b-427a-8b64-a926d1ad6358"
      },
      "execution_count": null,
      "outputs": [
        {
          "output_type": "stream",
          "name": "stdout",
          "text": [
            "Another Example of Two Dimensional Array:\n",
            "[[10, 20, 30, 40], [50, 60, 70, 80]]\n"
          ]
        }
      ]
    },
    {
      "cell_type": "markdown",
      "source": [
        "Three Dimensional Array:"
      ],
      "metadata": {
        "id": "Xgs_h1Mx3fRb"
      }
    },
    {
      "cell_type": "code",
      "source": [
        "B = np.array([[[1,2,3],[4,5,6],[7,8,9]]])\n",
        "print(B)"
      ],
      "metadata": {
        "colab": {
          "base_uri": "https://localhost:8080/"
        },
        "id": "PSCnWWIg3jNq",
        "outputId": "ef73e0bf-e6bc-4345-a72b-2ade64ce7f18"
      },
      "execution_count": null,
      "outputs": [
        {
          "output_type": "stream",
          "name": "stdout",
          "text": [
            "[[[1 2 3]\n",
            "  [4 5 6]\n",
            "  [7 8 9]]]\n"
          ]
        }
      ]
    },
    {
      "cell_type": "markdown",
      "source": [
        "To Find dimension:\n",
        "Let's take the Three dimensional Array that we created and named as B,\n"
      ],
      "metadata": {
        "id": "dq9OHTEz4NQo"
      }
    },
    {
      "cell_type": "code",
      "source": [
        "print('Dimension of B Array:',B.ndim)"
      ],
      "metadata": {
        "colab": {
          "base_uri": "https://localhost:8080/"
        },
        "id": "SScgY8NW4l4P",
        "outputId": "3ba229a3-d5a0-4395-d5b2-8988e6dc49e4"
      },
      "execution_count": null,
      "outputs": [
        {
          "output_type": "stream",
          "name": "stdout",
          "text": [
            "Dimension of B Array: 3\n"
          ]
        }
      ]
    },
    {
      "cell_type": "markdown",
      "source": [
        "To Find number of elements and shape:\n",
        "Let's take the same B array,\n"
      ],
      "metadata": {
        "id": "1wkiPaLg4wyx"
      }
    },
    {
      "cell_type": "code",
      "source": [
        "print('Size of B Array:',B.size)\n",
        "print('Shape of B Array:',B.shape)"
      ],
      "metadata": {
        "colab": {
          "base_uri": "https://localhost:8080/"
        },
        "id": "F4NhlDS444nR",
        "outputId": "ae101a6c-f919-42a5-c8f5-eb8c35195c58"
      },
      "execution_count": null,
      "outputs": [
        {
          "output_type": "stream",
          "name": "stdout",
          "text": [
            "Size of B Array: 9\n",
            "Shape of B Array: (1, 3, 3)\n"
          ]
        }
      ]
    },
    {
      "cell_type": "markdown",
      "source": [
        "Demonstrating Reshape:\n"
      ],
      "metadata": {
        "id": "IGMLHQDd5k64"
      }
    },
    {
      "cell_type": "code",
      "source": [
        "X = np.arange(10) \n",
        "print(X)"
      ],
      "metadata": {
        "colab": {
          "base_uri": "https://localhost:8080/"
        },
        "id": "BZYHDaFH5m1e",
        "outputId": "f83a7620-0a1e-4a9b-fbc1-6fd106fd996c"
      },
      "execution_count": null,
      "outputs": [
        {
          "output_type": "stream",
          "name": "stdout",
          "text": [
            "[0 1 2 3 4 5 6 7 8 9]\n"
          ]
        }
      ]
    },
    {
      "cell_type": "code",
      "source": [
        "print(\"Reshaping X with 2 rows and 5 columns\")\n",
        "print(X.reshape(2,5))"
      ],
      "metadata": {
        "colab": {
          "base_uri": "https://localhost:8080/"
        },
        "id": "QxWpqVKW5sT9",
        "outputId": "c8edc94e-a1c4-4e1b-bb45-f36998e91b95"
      },
      "execution_count": null,
      "outputs": [
        {
          "output_type": "stream",
          "name": "stdout",
          "text": [
            "Reshaping X with 2 rows and 5 columns\n",
            "[[0 1 2 3 4]\n",
            " [5 6 7 8 9]]\n"
          ]
        }
      ]
    },
    {
      "cell_type": "markdown",
      "source": [
        "Array Indexing:"
      ],
      "metadata": {
        "id": "ZPKWSy1s6jZb"
      }
    },
    {
      "cell_type": "code",
      "source": [
        "X = np.arange(10)\n",
        "X"
      ],
      "metadata": {
        "colab": {
          "base_uri": "https://localhost:8080/"
        },
        "id": "78PHRyqM6mXr",
        "outputId": "78308000-501e-426f-c152-633176caea4d"
      },
      "execution_count": null,
      "outputs": [
        {
          "output_type": "execute_result",
          "data": {
            "text/plain": [
              "array([0, 1, 2, 3, 4, 5, 6, 7, 8, 9])"
            ]
          },
          "metadata": {},
          "execution_count": 41
        }
      ]
    },
    {
      "cell_type": "code",
      "source": [
        "X = np.arange(10)\n",
        "print(X)\n",
        "print(X[:1])\n",
        "print(X[-1])\n",
        "print(X[:-1])\n",
        "print(X[-1:])\n",
        "print(X[1:5:2]) #1 to 5 with step = 2"
      ],
      "metadata": {
        "colab": {
          "base_uri": "https://localhost:8080/"
        },
        "id": "1OIwdiGW7RXl",
        "outputId": "4adeca03-dda5-44b9-88b8-d2ede33a50d8"
      },
      "execution_count": null,
      "outputs": [
        {
          "output_type": "stream",
          "name": "stdout",
          "text": [
            "[0 1 2 3 4 5 6 7 8 9]\n",
            "[0]\n",
            "9\n",
            "[0 1 2 3 4 5 6 7 8]\n",
            "[9]\n",
            "[1 3]\n"
          ]
        }
      ]
    },
    {
      "cell_type": "markdown",
      "source": [
        "Multi Dimensional arrays:"
      ],
      "metadata": {
        "id": "17Eu7lKR-6Lh"
      }
    },
    {
      "cell_type": "code",
      "source": [
        "x1 = np.random.randint(10, size=(3,4,5)) #No. of arrays, No of Rows, No of columns\n",
        "print('Before Indexing:\\n','\\n',x1,'\\n')\n",
        "print('After Indexing:\\n')\n",
        "print(x1[1:3],'\\n')\n",
        "print('Same as the size we gave for creating this arrays (Size = 3,4,5) \\n',x1.shape)\n",
        "print('row * column = 4 * 5 and there are 3 arrays then 3 * 20,\\n Size -->',x1.size)"
      ],
      "metadata": {
        "colab": {
          "base_uri": "https://localhost:8080/"
        },
        "id": "Lm4_V0a9-98c",
        "outputId": "08c60646-e282-4ee6-cdbe-a7b070dba3c4"
      },
      "execution_count": null,
      "outputs": [
        {
          "output_type": "stream",
          "name": "stdout",
          "text": [
            "Before Indexing:\n",
            " \n",
            " [[[4 7 1 4 0]\n",
            "  [0 9 8 1 7]\n",
            "  [1 7 5 2 8]\n",
            "  [6 6 1 1 0]]\n",
            "\n",
            " [[5 6 6 2 2]\n",
            "  [3 3 1 7 1]\n",
            "  [8 0 2 7 6]\n",
            "  [8 4 4 4 3]]\n",
            "\n",
            " [[4 3 8 4 4]\n",
            "  [5 2 1 4 5]\n",
            "  [2 5 2 4 0]\n",
            "  [4 1 7 0 8]]] \n",
            "\n",
            "After Indexing:\n",
            "\n",
            "[[[5 6 6 2 2]\n",
            "  [3 3 1 7 1]\n",
            "  [8 0 2 7 6]\n",
            "  [8 4 4 4 3]]\n",
            "\n",
            " [[4 3 8 4 4]\n",
            "  [5 2 1 4 5]\n",
            "  [2 5 2 4 0]\n",
            "  [4 1 7 0 8]]] \n",
            "\n",
            "Same as the size we gave for creating this arrays (Size = 3,4,5) \n",
            " (3, 4, 5)\n",
            "row * column = 4 * 5 and there are 3 arrays then 3 * 20,\n",
            " Size --> 60\n"
          ]
        }
      ]
    }
  ]
}