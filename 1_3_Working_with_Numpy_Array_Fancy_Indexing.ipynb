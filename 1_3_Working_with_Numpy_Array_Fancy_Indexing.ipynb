{
  "nbformat": 4,
  "nbformat_minor": 0,
  "metadata": {
    "colab": {
      "name": "1.3 Working with Numpy Array - Fancy Indexing.ipynb",
      "provenance": [],
      "collapsed_sections": []
    },
    "kernelspec": {
      "name": "python3",
      "display_name": "Python 3"
    },
    "language_info": {
      "name": "python"
    }
  },
  "cells": [
    {
      "cell_type": "markdown",
      "source": [
        "# 1.3 Working with Numpy Array : Fancy Indexing \n",
        "\n",
        "---\n"
      ],
      "metadata": {
        "id": "3MJ8SmNGE6LS"
      }
    },
    {
      "cell_type": "markdown",
      "source": [
        "# **Fancy Indexing**"
      ],
      "metadata": {
        "id": "veJBGIxHqq-5"
      }
    },
    {
      "cell_type": "markdown",
      "source": [
        "## Fancy indexing means passing an array of indices to access multiple array elements at once."
      ],
      "metadata": {
        "id": "TWIiErcaDc9M"
      }
    },
    {
      "cell_type": "markdown",
      "source": [
        "Importing the Numpy Module with the Name "
      ],
      "metadata": {
        "id": "FuG7QmzaFI7z"
      }
    },
    {
      "cell_type": "code",
      "source": [
        "import numpy as np"
      ],
      "metadata": {
        "id": "uXit9Vd7FVrE"
      },
      "execution_count": null,
      "outputs": []
    },
    {
      "cell_type": "markdown",
      "source": [
        "Creating the Array"
      ],
      "metadata": {
        "id": "zGm6EM7bBBRO"
      }
    },
    {
      "cell_type": "markdown",
      "source": [
        "For example, consider the following array:"
      ],
      "metadata": {
        "id": "EMWvBJTbDRVB"
      }
    },
    {
      "cell_type": "code",
      "source": [
        "rand = np.random.RandomState(42)\n",
        "\n",
        "a = rand.randint(100, size=10)\n",
        "print(a)"
      ],
      "metadata": {
        "colab": {
          "base_uri": "https://localhost:8080/"
        },
        "id": "dY3rApqsGkUn",
        "outputId": "8687224b-b096-4dde-8f9e-3236d770803f"
      },
      "execution_count": null,
      "outputs": [
        {
          "output_type": "stream",
          "name": "stdout",
          "text": [
            "[51 92 14 71 60 20 82 86 74 74]\n"
          ]
        }
      ]
    },
    {
      "cell_type": "markdown",
      "source": [
        " To access Four different elements"
      ],
      "metadata": {
        "id": "vU5hQWSgEq8K"
      }
    },
    {
      "cell_type": "code",
      "source": [
        "[a[1], a[5], a[7], a[9]]"
      ],
      "metadata": {
        "colab": {
          "base_uri": "https://localhost:8080/"
        },
        "id": "ARO1u7wCEw7b",
        "outputId": "1042f71d-b879-478b-f2f2-cb504e319074"
      },
      "execution_count": null,
      "outputs": [
        {
          "output_type": "execute_result",
          "data": {
            "text/plain": [
              "[92, 20, 86, 74]"
            ]
          },
          "metadata": {},
          "execution_count": 4
        }
      ]
    },
    {
      "cell_type": "markdown",
      "source": [
        "We can also pass the indices in the single list to get the output"
      ],
      "metadata": {
        "id": "E217qiTYFS7Y"
      }
    },
    {
      "cell_type": "code",
      "source": [
        "i = [1,5,7,9]\n",
        "a[i]"
      ],
      "metadata": {
        "colab": {
          "base_uri": "https://localhost:8080/"
        },
        "id": "iPAwDoBFHhck",
        "outputId": "686f524d-7459-4da3-af2c-8d7374ad6aa7"
      },
      "execution_count": null,
      "outputs": [
        {
          "output_type": "execute_result",
          "data": {
            "text/plain": [
              "array([92, 20, 86, 74])"
            ]
          },
          "metadata": {},
          "execution_count": 5
        }
      ]
    },
    {
      "cell_type": "markdown",
      "source": [
        "In Fancy Indexing,The Shape of the result reflects the shape of the index array and not reflects the shape of the array being indexed"
      ],
      "metadata": {
        "id": "SS1gSsOlKhso"
      }
    },
    {
      "cell_type": "code",
      "source": [
        "i = np.array([[1, 5],\n",
        "                [9, 7]])\n",
        "a[i]"
      ],
      "metadata": {
        "colab": {
          "base_uri": "https://localhost:8080/"
        },
        "id": "kX-iCL-jLLAi",
        "outputId": "eee6c57d-bf3b-467c-cf55-0df87f85be4a"
      },
      "execution_count": null,
      "outputs": [
        {
          "output_type": "execute_result",
          "data": {
            "text/plain": [
              "array([[92, 20],\n",
              "       [74, 86]])"
            ]
          },
          "metadata": {},
          "execution_count": 6
        }
      ]
    },
    {
      "cell_type": "markdown",
      "source": [
        "Fancy indexing also works in multiple dimensions"
      ],
      "metadata": {
        "id": "ZGOL8Gsjk8xi"
      }
    },
    {
      "cell_type": "code",
      "source": [
        "x = np.arange(12).reshape((3, 4))\n",
        "x"
      ],
      "metadata": {
        "colab": {
          "base_uri": "https://localhost:8080/"
        },
        "id": "6_gzTMBjlqMK",
        "outputId": "43188ec1-8376-4e18-f9c8-c3c2ad08b329"
      },
      "execution_count": null,
      "outputs": [
        {
          "output_type": "execute_result",
          "data": {
            "text/plain": [
              "array([[ 0,  1,  2,  3],\n",
              "       [ 4,  5,  6,  7],\n",
              "       [ 8,  9, 10, 11]])"
            ]
          },
          "metadata": {},
          "execution_count": 7
        }
      ]
    },
    {
      "cell_type": "markdown",
      "source": [
        "Like standard indexing, The First index array refers to the row and The Second array to the column"
      ],
      "metadata": {
        "id": "rSbPHHQxp9Ky"
      }
    },
    {
      "cell_type": "code",
      "source": [
        "row = np.array([0, 1, 2])\n",
        "col = np.array([2, 1, 3])\n",
        "x[row, col]"
      ],
      "metadata": {
        "colab": {
          "base_uri": "https://localhost:8080/"
        },
        "id": "J2vFyyoAp9jH",
        "outputId": "7c9a3288-4289-4200-a7d6-103f10c5070c"
      },
      "execution_count": null,
      "outputs": [
        {
          "output_type": "execute_result",
          "data": {
            "text/plain": [
              "array([ 2,  5, 11])"
            ]
          },
          "metadata": {},
          "execution_count": 8
        }
      ]
    },
    {
      "cell_type": "code",
      "source": [
        "x[row[:, np.newaxis], col]"
      ],
      "metadata": {
        "colab": {
          "base_uri": "https://localhost:8080/"
        },
        "id": "IAJzpCMtxW_J",
        "outputId": "9d4056af-e922-42f6-e867-f281ac7f5184"
      },
      "execution_count": null,
      "outputs": [
        {
          "output_type": "execute_result",
          "data": {
            "text/plain": [
              "array([[ 2,  1,  3],\n",
              "       [ 6,  5,  7],\n",
              "       [10,  9, 11]])"
            ]
          },
          "metadata": {},
          "execution_count": 9
        }
      ]
    },
    {
      "cell_type": "markdown",
      "source": [
        "## **Combined Indexing**\n"
      ],
      "metadata": {
        "id": "ba8nmUm4q7Jw"
      }
    },
    {
      "cell_type": "markdown",
      "source": [
        "Powerful Operations can be Performed by combining the Fancy Indexing with other Indexing Methodes"
      ],
      "metadata": {
        "id": "TXrHlLkBrDxK"
      }
    },
    {
      "cell_type": "code",
      "source": [
        "print(x)"
      ],
      "metadata": {
        "colab": {
          "base_uri": "https://localhost:8080/"
        },
        "id": "tYxFLsdyqWtW",
        "outputId": "881f6351-314c-41be-bf90-19650e9e1462"
      },
      "execution_count": null,
      "outputs": [
        {
          "output_type": "stream",
          "name": "stdout",
          "text": [
            "[[ 0  1  2  3]\n",
            " [ 4  5  6  7]\n",
            " [ 8  9 10 11]]\n"
          ]
        }
      ]
    },
    {
      "cell_type": "markdown",
      "source": [
        "Combining Fancy indexing and Simple indices"
      ],
      "metadata": {
        "id": "D-nDYVIjsNWU"
      }
    },
    {
      "cell_type": "code",
      "source": [
        "x[2, [1, 0, 3]]"
      ],
      "metadata": {
        "colab": {
          "base_uri": "https://localhost:8080/"
        },
        "id": "kB0MXdlMssHe",
        "outputId": "5b65c872-4548-49bd-b6bc-a72e2e632674"
      },
      "execution_count": null,
      "outputs": [
        {
          "output_type": "execute_result",
          "data": {
            "text/plain": [
              "array([ 9,  8, 11])"
            ]
          },
          "metadata": {},
          "execution_count": 11
        }
      ]
    },
    {
      "cell_type": "markdown",
      "source": [
        "Combining Fancy indexing with Slicing"
      ],
      "metadata": {
        "id": "_9a8Tj_ttAXn"
      }
    },
    {
      "cell_type": "code",
      "source": [
        "x[1:, [2, 0, 1]]"
      ],
      "metadata": {
        "id": "s0Gx9hIUtPvK",
        "colab": {
          "base_uri": "https://localhost:8080/"
        },
        "outputId": "e84007c1-624c-4883-b2db-de0bc1b163bc"
      },
      "execution_count": null,
      "outputs": [
        {
          "output_type": "execute_result",
          "data": {
            "text/plain": [
              "array([[ 6,  4,  5],\n",
              "       [10,  8,  9]])"
            ]
          },
          "metadata": {},
          "execution_count": 12
        }
      ]
    },
    {
      "cell_type": "markdown",
      "source": [
        "## **Modifying Values Using Fancy Indexing**"
      ],
      "metadata": {
        "id": "kpW7ueHH6aC6"
      }
    },
    {
      "cell_type": "markdown",
      "source": [
        "The Fancy Indexing Array is use to Access the Part of The array But,It can be also use to Modify the arrsy"
      ],
      "metadata": {
        "id": "Cn9A273D6yaY"
      }
    },
    {
      "cell_type": "code",
      "source": [
        "y = np.arange(10)\n",
        "i = np.array([2, 1, 8, 4])\n",
        "y[i] = 99\n",
        "print(x)"
      ],
      "metadata": {
        "colab": {
          "base_uri": "https://localhost:8080/"
        },
        "id": "23qgOAE07ctn",
        "outputId": "69fef26c-ce7d-4ff5-f3b5-21cc8731acd7"
      },
      "execution_count": null,
      "outputs": [
        {
          "output_type": "stream",
          "name": "stdout",
          "text": [
            "[[ 0  1  2  3]\n",
            " [ 4  5  6  7]\n",
            " [ 8  9 10 11]]\n"
          ]
        }
      ]
    },
    {
      "cell_type": "markdown",
      "source": [
        "We can use any assignment-type operator for this"
      ],
      "metadata": {
        "id": "rKV-6ocK7oUm"
      }
    },
    {
      "cell_type": "markdown",
      "source": [
        "For Example :"
      ],
      "metadata": {
        "id": "TWbdl63M7oJY"
      }
    },
    {
      "cell_type": "code",
      "source": [
        "y[i] -= 10\n",
        "print(y)"
      ],
      "metadata": {
        "colab": {
          "base_uri": "https://localhost:8080/"
        },
        "id": "JmCKDqm17yVu",
        "outputId": "b3c23769-ed3e-4c9b-92e6-7caa38f4eb3f"
      },
      "execution_count": null,
      "outputs": [
        {
          "output_type": "stream",
          "name": "stdout",
          "text": [
            "[ 0 79 79  3 79  5  6  7 79  9]\n"
          ]
        }
      ]
    }
  ]
}