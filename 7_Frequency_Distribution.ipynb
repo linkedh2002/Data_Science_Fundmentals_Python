{
  "nbformat": 4,
  "nbformat_minor": 0,
  "metadata": {
    "colab": {
      "name": "7 Frequency Distribution.ipynb",
      "provenance": [],
      "collapsed_sections": []
    },
    "kernelspec": {
      "name": "python3",
      "display_name": "Python 3"
    },
    "language_info": {
      "name": "python"
    }
  },
  "cells": [
    {
      "cell_type": "markdown",
      "source": [
        "## **7. Frequency Distribution**\n",
        "\n",
        "---\n",
        "\n"
      ],
      "metadata": {
        "id": "xmaEqtZtazH3"
      }
    },
    {
      "cell_type": "markdown",
      "source": [
        "***Importing the Required Modules(Numpy and Pandas)***"
      ],
      "metadata": {
        "id": "kUWPcoEBay8o"
      }
    },
    {
      "cell_type": "code",
      "execution_count": null,
      "metadata": {
        "id": "xaCdUDzKX4ff"
      },
      "outputs": [],
      "source": [
        "import numpy as np\n",
        "import pandas as pd "
      ]
    },
    {
      "cell_type": "markdown",
      "source": [
        "***Finding the Frequency in the Array***"
      ],
      "metadata": {
        "id": "ztfHPZG3hCnr"
      }
    },
    {
      "cell_type": "code",
      "source": [
        "data = pd.Series([1, 1, 1, 2, 3, 3, 3, 3, 4, 4, 5])\n",
        "data.value_counts()#value_counts() is used for finding the count of the element "
      ],
      "metadata": {
        "colab": {
          "base_uri": "https://localhost:8080/"
        },
        "id": "Rm9QsRPcdYeR",
        "outputId": "d342c03e-d5d6-4ac6-e2c5-8d1a58578274"
      },
      "execution_count": null,
      "outputs": [
        {
          "output_type": "execute_result",
          "data": {
            "text/plain": [
              "3    4\n",
              "1    3\n",
              "4    2\n",
              "5    1\n",
              "2    1\n",
              "dtype: int64"
            ]
          },
          "metadata": {},
          "execution_count": 18
        }
      ]
    },
    {
      "cell_type": "markdown",
      "source": [
        "***Creating a Datasets***\n"
      ],
      "metadata": {
        "id": "gxr6TIQLgbML"
      }
    },
    {
      "cell_type": "code",
      "source": [
        "df = pd.DataFrame({'NAME': ['A','B','C','D','E','F','G','H','I','J'],\n",
        "                   'GRADE': ['A','A','A','B','B', 'B', 'B', 'C', 'D', 'D'],\n",
        "                   'GENDER': ['M','M', 'F', 'F', 'F', 'M', 'M', 'F', 'M', 'F']})\n",
        "df"
      ],
      "metadata": {
        "colab": {
          "base_uri": "https://localhost:8080/",
          "height": 363
        },
        "id": "4rKK6H8BeDGI",
        "outputId": "0bb341da-b794-43ed-962c-c6df54b24591"
      },
      "execution_count": null,
      "outputs": [
        {
          "output_type": "execute_result",
          "data": {
            "text/html": [
              "\n",
              "  <div id=\"df-9b54d7bf-3d36-4287-9e91-30da755fa77a\">\n",
              "    <div class=\"colab-df-container\">\n",
              "      <div>\n",
              "<style scoped>\n",
              "    .dataframe tbody tr th:only-of-type {\n",
              "        vertical-align: middle;\n",
              "    }\n",
              "\n",
              "    .dataframe tbody tr th {\n",
              "        vertical-align: top;\n",
              "    }\n",
              "\n",
              "    .dataframe thead th {\n",
              "        text-align: right;\n",
              "    }\n",
              "</style>\n",
              "<table border=\"1\" class=\"dataframe\">\n",
              "  <thead>\n",
              "    <tr style=\"text-align: right;\">\n",
              "      <th></th>\n",
              "      <th>NAME</th>\n",
              "      <th>GRADE</th>\n",
              "      <th>GENDER</th>\n",
              "    </tr>\n",
              "  </thead>\n",
              "  <tbody>\n",
              "    <tr>\n",
              "      <th>0</th>\n",
              "      <td>A</td>\n",
              "      <td>A</td>\n",
              "      <td>M</td>\n",
              "    </tr>\n",
              "    <tr>\n",
              "      <th>1</th>\n",
              "      <td>B</td>\n",
              "      <td>A</td>\n",
              "      <td>M</td>\n",
              "    </tr>\n",
              "    <tr>\n",
              "      <th>2</th>\n",
              "      <td>C</td>\n",
              "      <td>A</td>\n",
              "      <td>F</td>\n",
              "    </tr>\n",
              "    <tr>\n",
              "      <th>3</th>\n",
              "      <td>D</td>\n",
              "      <td>B</td>\n",
              "      <td>F</td>\n",
              "    </tr>\n",
              "    <tr>\n",
              "      <th>4</th>\n",
              "      <td>E</td>\n",
              "      <td>B</td>\n",
              "      <td>F</td>\n",
              "    </tr>\n",
              "    <tr>\n",
              "      <th>5</th>\n",
              "      <td>F</td>\n",
              "      <td>B</td>\n",
              "      <td>M</td>\n",
              "    </tr>\n",
              "    <tr>\n",
              "      <th>6</th>\n",
              "      <td>G</td>\n",
              "      <td>B</td>\n",
              "      <td>M</td>\n",
              "    </tr>\n",
              "    <tr>\n",
              "      <th>7</th>\n",
              "      <td>H</td>\n",
              "      <td>C</td>\n",
              "      <td>F</td>\n",
              "    </tr>\n",
              "    <tr>\n",
              "      <th>8</th>\n",
              "      <td>I</td>\n",
              "      <td>D</td>\n",
              "      <td>M</td>\n",
              "    </tr>\n",
              "    <tr>\n",
              "      <th>9</th>\n",
              "      <td>J</td>\n",
              "      <td>D</td>\n",
              "      <td>F</td>\n",
              "    </tr>\n",
              "  </tbody>\n",
              "</table>\n",
              "</div>\n",
              "      <button class=\"colab-df-convert\" onclick=\"convertToInteractive('df-9b54d7bf-3d36-4287-9e91-30da755fa77a')\"\n",
              "              title=\"Convert this dataframe to an interactive table.\"\n",
              "              style=\"display:none;\">\n",
              "        \n",
              "  <svg xmlns=\"http://www.w3.org/2000/svg\" height=\"24px\"viewBox=\"0 0 24 24\"\n",
              "       width=\"24px\">\n",
              "    <path d=\"M0 0h24v24H0V0z\" fill=\"none\"/>\n",
              "    <path d=\"M18.56 5.44l.94 2.06.94-2.06 2.06-.94-2.06-.94-.94-2.06-.94 2.06-2.06.94zm-11 1L8.5 8.5l.94-2.06 2.06-.94-2.06-.94L8.5 2.5l-.94 2.06-2.06.94zm10 10l.94 2.06.94-2.06 2.06-.94-2.06-.94-.94-2.06-.94 2.06-2.06.94z\"/><path d=\"M17.41 7.96l-1.37-1.37c-.4-.4-.92-.59-1.43-.59-.52 0-1.04.2-1.43.59L10.3 9.45l-7.72 7.72c-.78.78-.78 2.05 0 2.83L4 21.41c.39.39.9.59 1.41.59.51 0 1.02-.2 1.41-.59l7.78-7.78 2.81-2.81c.8-.78.8-2.07 0-2.86zM5.41 20L4 18.59l7.72-7.72 1.47 1.35L5.41 20z\"/>\n",
              "  </svg>\n",
              "      </button>\n",
              "      \n",
              "  <style>\n",
              "    .colab-df-container {\n",
              "      display:flex;\n",
              "      flex-wrap:wrap;\n",
              "      gap: 12px;\n",
              "    }\n",
              "\n",
              "    .colab-df-convert {\n",
              "      background-color: #E8F0FE;\n",
              "      border: none;\n",
              "      border-radius: 50%;\n",
              "      cursor: pointer;\n",
              "      display: none;\n",
              "      fill: #1967D2;\n",
              "      height: 32px;\n",
              "      padding: 0 0 0 0;\n",
              "      width: 32px;\n",
              "    }\n",
              "\n",
              "    .colab-df-convert:hover {\n",
              "      background-color: #E2EBFA;\n",
              "      box-shadow: 0px 1px 2px rgba(60, 64, 67, 0.3), 0px 1px 3px 1px rgba(60, 64, 67, 0.15);\n",
              "      fill: #174EA6;\n",
              "    }\n",
              "\n",
              "    [theme=dark] .colab-df-convert {\n",
              "      background-color: #3B4455;\n",
              "      fill: #D2E3FC;\n",
              "    }\n",
              "\n",
              "    [theme=dark] .colab-df-convert:hover {\n",
              "      background-color: #434B5C;\n",
              "      box-shadow: 0px 1px 3px 1px rgba(0, 0, 0, 0.15);\n",
              "      filter: drop-shadow(0px 1px 2px rgba(0, 0, 0, 0.3));\n",
              "      fill: #FFFFFF;\n",
              "    }\n",
              "  </style>\n",
              "\n",
              "      <script>\n",
              "        const buttonEl =\n",
              "          document.querySelector('#df-9b54d7bf-3d36-4287-9e91-30da755fa77a button.colab-df-convert');\n",
              "        buttonEl.style.display =\n",
              "          google.colab.kernel.accessAllowed ? 'block' : 'none';\n",
              "\n",
              "        async function convertToInteractive(key) {\n",
              "          const element = document.querySelector('#df-9b54d7bf-3d36-4287-9e91-30da755fa77a');\n",
              "          const dataTable =\n",
              "            await google.colab.kernel.invokeFunction('convertToInteractive',\n",
              "                                                     [key], {});\n",
              "          if (!dataTable) return;\n",
              "\n",
              "          const docLinkHtml = 'Like what you see? Visit the ' +\n",
              "            '<a target=\"_blank\" href=https://colab.research.google.com/notebooks/data_table.ipynb>data table notebook</a>'\n",
              "            + ' to learn more about interactive tables.';\n",
              "          element.innerHTML = '';\n",
              "          dataTable['output_type'] = 'display_data';\n",
              "          await google.colab.output.renderOutput(dataTable, element);\n",
              "          const docLink = document.createElement('div');\n",
              "          docLink.innerHTML = docLinkHtml;\n",
              "          element.appendChild(docLink);\n",
              "        }\n",
              "      </script>\n",
              "    </div>\n",
              "  </div>\n",
              "  "
            ],
            "text/plain": [
              "  NAME GRADE GENDER\n",
              "0    A     A      M\n",
              "1    B     A      M\n",
              "2    C     A      F\n",
              "3    D     B      F\n",
              "4    E     B      F\n",
              "5    F     B      M\n",
              "6    G     B      M\n",
              "7    H     C      F\n",
              "8    I     D      M\n",
              "9    J     D      F"
            ]
          },
          "metadata": {},
          "execution_count": 19
        }
      ]
    },
    {
      "cell_type": "markdown",
      "source": [
        "***Finding Frequency for the 'GRADE'***"
      ],
      "metadata": {
        "id": "JC-3rKq0hQPz"
      }
    },
    {
      "cell_type": "markdown",
      "source": [
        "count() is used to count the number of observations across the given axis"
      ],
      "metadata": {
        "id": "vkaJx7Uwlgwj"
      }
    },
    {
      "cell_type": "code",
      "source": [
        "count = df['GRADE'].value_counts()\n",
        "print(count)"
      ],
      "metadata": {
        "colab": {
          "base_uri": "https://localhost:8080/"
        },
        "id": "1wAkHEVYfsF2",
        "outputId": "701cfc77-7b0e-44dd-a51c-eb4ee8c55f05"
      },
      "execution_count": null,
      "outputs": [
        {
          "output_type": "stream",
          "name": "stdout",
          "text": [
            "B    4\n",
            "A    3\n",
            "D    2\n",
            "C    1\n",
            "Name: GRADE, dtype: int64\n"
          ]
        }
      ]
    },
    {
      "cell_type": "markdown",
      "source": [
        "***Finding Frequency for the 'GENDER'***"
      ],
      "metadata": {
        "id": "m4hIPfAeihkI"
      }
    },
    {
      "cell_type": "code",
      "source": [
        "count = df['GENDER'].value_counts()\n",
        "print(count)"
      ],
      "metadata": {
        "colab": {
          "base_uri": "https://localhost:8080/"
        },
        "id": "Ad6djqk7gGjs",
        "outputId": "21fb0190-324c-4628-e06a-ebe4ed8b1bf1"
      },
      "execution_count": null,
      "outputs": [
        {
          "output_type": "stream",
          "name": "stdout",
          "text": [
            "F    5\n",
            "M    5\n",
            "Name: GENDER, dtype: int64\n"
          ]
        }
      ]
    },
    {
      "cell_type": "markdown",
      "source": [
        "***Using the groupby() Method :***\n",
        "\n",
        "A groupby operation involves splitting the object, applying a function, and combining the results"
      ],
      "metadata": {
        "id": "kfZHAX4Pl4W6"
      }
    },
    {
      "cell_type": "code",
      "source": [
        "count = df.groupby(['GRADE']).count()#\n",
        "print(count)"
      ],
      "metadata": {
        "colab": {
          "base_uri": "https://localhost:8080/"
        },
        "id": "hdHgsZjaivQ5",
        "outputId": "e1781a57-18bb-4f92-d0c8-d2880a09e0d1"
      },
      "execution_count": null,
      "outputs": [
        {
          "output_type": "stream",
          "name": "stdout",
          "text": [
            "       NAME  GENDER\n",
            "GRADE              \n",
            "A         3       3\n",
            "B         4       4\n",
            "C         1       1\n",
            "D         2       2\n"
          ]
        }
      ]
    },
    {
      "cell_type": "code",
      "source": [
        "count = df.groupby(['GENDER']).count()\n",
        "print(count)"
      ],
      "metadata": {
        "colab": {
          "base_uri": "https://localhost:8080/"
        },
        "id": "bYIk90TCkKck",
        "outputId": "89fcedf7-9683-4a67-e616-3abbedee6b22"
      },
      "execution_count": null,
      "outputs": [
        {
          "output_type": "stream",
          "name": "stdout",
          "text": [
            "        NAME  GRADE\n",
            "GENDER             \n",
            "F          5      5\n",
            "M          5      5\n"
          ]
        }
      ]
    },
    {
      "cell_type": "code",
      "source": [
        "count = df.groupby(['GRADE', 'GENDER']).size() #size() function count the number of elements along a given axis\n",
        "print(count)"
      ],
      "metadata": {
        "colab": {
          "base_uri": "https://localhost:8080/"
        },
        "id": "dHfGU6Jakxps",
        "outputId": "6ce436b4-1cea-4c8d-d69e-b48201137290"
      },
      "execution_count": null,
      "outputs": [
        {
          "output_type": "stream",
          "name": "stdout",
          "text": [
            "GRADE  GENDER\n",
            "A      F         1\n",
            "       M         2\n",
            "B      F         2\n",
            "       M         2\n",
            "C      F         1\n",
            "D      F         1\n",
            "       M         1\n",
            "dtype: int64\n"
          ]
        }
      ]
    }
  ]
}